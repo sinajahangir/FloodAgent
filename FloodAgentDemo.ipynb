{
  "nbformat": 4,
  "nbformat_minor": 0,
  "metadata": {
    "colab": {
      "provenance": [],
      "mount_file_id": "1becJDEX8Hk1fQZaBQq0bd10YcY17mf9g",
      "authorship_tag": "ABX9TyPVNsuIDwwWgbjORjVtpLFS",
      "include_colab_link": true
    },
    "kernelspec": {
      "name": "python3",
      "display_name": "Python 3"
    },
    "language_info": {
      "name": "python"
    }
  },
  "cells": [
    {
      "cell_type": "markdown",
      "metadata": {
        "id": "view-in-github",
        "colab_type": "text"
      },
      "source": [
        "<a href=\"https://colab.research.google.com/github/sinajahangir/FloodAgent/blob/main/FloodAgentDemo.ipynb\" target=\"_parent\"><img src=\"https://colab.research.google.com/assets/colab-badge.svg\" alt=\"Open In Colab\"/></a>"
      ]
    },
    {
      "cell_type": "markdown",
      "source": [
        "# Introduction"
      ],
      "metadata": {
        "id": "wssEh45i1Dqa"
      }
    },
    {
      "cell_type": "markdown",
      "source": [
        "This AI agent code is designed to extract location parameters (coordinates) from a user prompt using natural language processing. After identifying the relevant location, the agent queries a flood information system to retrieve and present current flood-related details (e.g., severity, vulnerability) specific to the extracted location.\n",
        "The case study presented in this notebook is associated with City of Calgary\n",
        "\n",
        "You do not need to run the notebook on GPU\n",
        "\n",
        "Developed by: Sina Jahangir (first version: October 2025)\n",
        "license: GNU GENERAL PUBLIC LICENSE"
      ],
      "metadata": {
        "id": "-ah3TQTTi_0P"
      }
    },
    {
      "cell_type": "markdown",
      "source": [
        "# Clone repository"
      ],
      "metadata": {
        "id": "XlAHAxrH1pXZ"
      }
    },
    {
      "cell_type": "markdown",
      "source": [
        "After executing, you should see the repo in Files section"
      ],
      "metadata": {
        "id": "wN5zjIkK2G5k"
      }
    },
    {
      "cell_type": "code",
      "source": [
        "import os\n",
        "if os.path.isdir('FloodAgent'):\n",
        "    !rm -rf FloodAgent #removed if already there is a cloned repo\n",
        "!git clone https://github.com/sinajahangir/FloodAgent.git"
      ],
      "metadata": {
        "colab": {
          "base_uri": "https://localhost:8080/"
        },
        "id": "ReG1s3i11t1h",
        "outputId": "84d80467-5045-4273-b1db-a7cf00a1ce0f"
      },
      "execution_count": 1,
      "outputs": [
        {
          "output_type": "stream",
          "name": "stdout",
          "text": [
            "Cloning into 'FloodAgent'...\n",
            "remote: Enumerating objects: 55, done.\u001b[K\n",
            "remote: Counting objects: 100% (55/55), done.\u001b[K\n",
            "remote: Compressing objects: 100% (42/42), done.\u001b[K\n",
            "remote: Total 55 (delta 28), reused 36 (delta 13), pack-reused 0 (from 0)\u001b[K\n",
            "Receiving objects: 100% (55/55), 3.54 MiB | 8.62 MiB/s, done.\n",
            "Resolving deltas: 100% (28/28), done.\n"
          ]
        }
      ]
    },
    {
      "cell_type": "markdown",
      "source": [
        "# Install libraries and load dependencies"
      ],
      "metadata": {
        "id": "-TdemBo82TT2"
      }
    },
    {
      "cell_type": "code",
      "source": [
        "# Execute the setup.py file that is now in the cloned directory\n",
        "%run FloodAgent/SetupLibraries.py"
      ],
      "metadata": {
        "colab": {
          "base_uri": "https://localhost:8080/"
        },
        "id": "RSE6BCQI2gLO",
        "outputId": "b1e9df2f-f685-4c43-d63c-bd316a7b95b3"
      },
      "execution_count": 2,
      "outputs": [
        {
          "output_type": "stream",
          "name": "stdout",
          "text": [
            "Package ''pgmpy'' not found. Attempting installation of all required packages...\n",
            "Successfully installed: pandas, numpy, scipy, google-genai, pgmpy, rasterio\n",
            "Success: Packages installed and imported after retry.\n",
            "Numpy version: 2.0.2\n",
            "Setup script finished execution\n"
          ]
        }
      ]
    },
    {
      "cell_type": "markdown",
      "source": [
        "# LLM setup"
      ],
      "metadata": {
        "id": "oeF3ExXE6f5i"
      }
    },
    {
      "cell_type": "code",
      "source": [
        "# --- LLM Setup ---\n",
        "try:\n",
        "    # Using Colab Secrets for API key management\n",
        "    api_key = userdata.get('RAG') #API key needs setup in the cloud. \"RAG\" is an arbitrary name example\n",
        "    genai.configure(api_key=api_key)\n",
        "    print(\"Gemini API Key configured.\")\n",
        "    # Initialize the generative model\n",
        "    llm_model = genai.GenerativeModel('gemini-2.5-flash-lite') # Use a model good at instruction following/extraction\n",
        "    print(f\"LLM Model '{llm_model.model_name}' initialized.\")\n",
        "except userdata.SecretNotFoundError:\n",
        "    print(\"ERROR: Gemini API Key ('GEMINI_API_KEY') not found in Colab Secrets.\")\n",
        "    print(\"Please add your API key via the 'Secrets' tab (key icon) on the left.\")\n",
        "    llm_model = None\n",
        "except Exception as e:\n",
        "    print(f\"An error occurred during Gemini setup: {e}\")\n",
        "    llm_model = None"
      ],
      "metadata": {
        "colab": {
          "base_uri": "https://localhost:8080/"
        },
        "id": "CA4ht2-1KwVu",
        "outputId": "baaf5ebc-bc1e-4514-d8c9-74d7955fe245"
      },
      "execution_count": 3,
      "outputs": [
        {
          "output_type": "stream",
          "name": "stdout",
          "text": [
            "Gemini API Key configured.\n",
            "LLM Model 'models/gemini-2.5-flash-lite' initialized.\n"
          ]
        }
      ]
    },
    {
      "cell_type": "markdown",
      "source": [
        "# Agent class"
      ],
      "metadata": {
        "id": "MUpZCCWRRQJ-"
      }
    },
    {
      "cell_type": "code",
      "source": [
        "from FloodAgent.AgentSource import CoordinateFloodProximityAgent"
      ],
      "metadata": {
        "id": "AaoLS4HKQwKs"
      },
      "execution_count": 4,
      "outputs": []
    },
    {
      "cell_type": "markdown",
      "source": [
        "# Read data"
      ],
      "metadata": {
        "id": "GmszwBiQZhpy"
      }
    },
    {
      "cell_type": "code",
      "source": [
        "df_flood=pd.read_csv('FloodAgent/Data/CA_202012_FLSW_U_RP100_RB_30m_4326.csv') #flood data\n",
        "df_sovi=pd.read_csv('FloodAgent/Data/DA_SoVI_Coordinates.csv') #Social Vulnerability\n",
        "modeli_=DiscreteBayesianNetwork.load('FloodAgent/Data/BBN_Model_RoadNetwork_Updated.bif', filetype='bif') #Bayesian network"
      ],
      "metadata": {
        "id": "P5O9KTMUafNa"
      },
      "execution_count": 5,
      "outputs": []
    },
    {
      "cell_type": "code",
      "source": [
        "#Convert dataframes to numpy array (expected by the agent)\n",
        "flood_pixels = np.array(df_flood[['easting', 'northing']])\n",
        "sovi_pixels = np.array(df_sovi[['easting', 'northing']])\n",
        "sovi_array = np.array(df_sovi['SoVI'])\n",
        "pop_density_array = np.array(df_sovi['pop_d_c'])"
      ],
      "metadata": {
        "id": "rkIpy2qLaWTN"
      },
      "execution_count": 6,
      "outputs": []
    },
    {
      "cell_type": "markdown",
      "source": [
        "#Test Agent"
      ],
      "metadata": {
        "id": "5D1qLetxdzoG"
      }
    },
    {
      "cell_type": "code",
      "source": [
        "# --- Run Example IF LLM is available and data is ready ---\n",
        "if llm_model and len(flood_pixels) > 0:\n",
        "    # Instantiate the agent\n",
        "    try:\n",
        "        agent = CoordinateFloodProximityAgent(\n",
        "            flood_pixel_coords=flood_pixels,# Essential: Flood pixel data\n",
        "            sovi_coords=sovi_pixels,# SoVI coordination\n",
        "            sovi_array=sovi_array, # SoVI data\n",
        "            pop_density_array=pop_density_array,\n",
        "            BBN=modeli_, #Bayesian network,\n",
        "            llm_model=llm_model, #LLM model\n",
        "            show_map=True #Show map\n",
        "        )\n",
        "\n",
        "        prompt1 = \"Analyze flood at the largest hospital in Calgary, Foothills Medical Centre, located at coordinates 51.065389°N, 114.133306°W?\"\n",
        "        print(f\"\\nUser Query 1: {prompt1}\")\n",
        "        response1 = agent.find_closest_flood_pixel_to_location(prompt1)\n",
        "        print(f\"Agent Response 1:\\n{response1}\")\n",
        "\n",
        "    except Exception as e:\n",
        "        print(f\"\\nAn error occurred during agent instantiation or testing: {e}\")\n",
        "\n",
        "elif not llm_model:\n",
        "     print(\"\\nSkipping example usage: LLM model not initialized.\")\n",
        "else:\n",
        "     print(\"\\nSkipping example usage: Placeholder data (buildings or flood pixels) is empty or missing.\")"
      ],
      "metadata": {
        "colab": {
          "base_uri": "https://localhost:8080/",
          "height": 1000
        },
        "id": "0S4-cvl6M2b1",
        "outputId": "80d21c56-9bfc-4924-bf81-7bf0a6026e26"
      },
      "execution_count": 7,
      "outputs": [
        {
          "output_type": "stream",
          "name": "stdout",
          "text": [
            "Stored 191478 flood pixel coordinates.\n",
            "Building k-d tree for flood pixels...\n",
            "Flood k-d tree built.\n",
            "\n",
            "User Query 1: Analyze flood at the largest hospital in Calgary, Foothills Medical Centre, located at coordinates 51.065389°N, 114.133306°W?\n",
            "Displaying Location: Lat=51.065389, Lon=-114.133306\n",
            "Direct Link (Open in New Tab): https://www.google.com/maps/@51.065389,-114.133306,10z\n"
          ]
        },
        {
          "output_type": "display_data",
          "data": {
            "text/plain": [
              "<IPython.lib.display.IFrame at 0x7ab1233f59a0>"
            ],
            "text/html": [
              "\n",
              "        <iframe\n",
              "            width=\"100%\"\n",
              "            height=\"450\"\n",
              "            src=\"https://maps.google.com/maps?q=51.065389,-114.133306&output=embed\"\n",
              "            frameborder=\"0\"\n",
              "            allowfullscreen\n",
              "            \n",
              "        ></iframe>\n",
              "        "
            ]
          },
          "metadata": {}
        },
        {
          "output_type": "stream",
          "name": "stdout",
          "text": [
            "Converted to UTM (EPSG:32611): Easting=700854.339158512, Northing=5661006.428564519\n",
            "Closest flood pixel found: Coords=[ 700936.80600551 5661075.03498424], Distance=107.2736\n",
            "Agent Response 1:\n",
            "Here's a concise response incorporating the provided information, with a modified tone based on the SoVI value class:\n",
            "\n",
            "**\"We found the closest flood record about 107 meters away from your location. This area has a 'Low' SoVI value, indicating a low level of social vulnerability. The population density is also low, and the expected road class is 'Local'. Considering these factors, your flood exposure is rated as 'Moderate', and your flood resilience is estimated to be **Good**.**\n",
            "\n",
            "***\n",
            "\n",
            "**Chain of Thought for Flood Resilience Estimation:**\n",
            "\n",
            "My estimation of \"Good\" flood resilience is based on the interplay of the provided data points, particularly focusing on the indicators of vulnerability and the characteristics of the flood event. Here's how I arrived at that conclusion:\n",
            "\n",
            "1.  **SoVI Value Class (Low):** This is a primary indicator of social vulnerability. A \"Low\" SoVI value suggests that the community in this area has fewer social characteristics that would make them more susceptible to the impacts of a flood. This could include factors like lower income, less elderly population, fewer single-parent households, etc. **This directly contributes to higher resilience.**\n",
            "\n",
            "2.  **Population Density (Low):** Low population density means that in the event of a flood, there are fewer people directly exposed and potentially impacted. This makes evacuation and rescue efforts generally more manageable and reduces the overall scale of the social disruption. **This also contributes to higher resilience.**\n",
            "\n",
            "3.  **Distance to Flood Pixel (107.27 meters):** While there is a recorded flood event nearby, the distance of 107 meters is not exceedingly close. This suggests that while flooding is a known issue in the vicinity, the immediate area might not be subject to the most severe inundation, or that the floodwaters might not reach this specific point with the same intensity. **This provides a moderate level of confidence, leaning towards resilience as the flood isn't at your doorstep.**\n",
            "\n",
            "4.  **Expected Road Class (Local):** Local roads are typically less critical infrastructure for large-scale evacuation or emergency response compared to arterial roads. However, in a low population density area, the impact of a local road being flooded might be less disruptive to the overall community. **This is a neutral to slightly negative factor, but its impact is mitigated by other factors.**\n",
            "\n",
            "5.  **Flood Exposure Class (Moderate):** This is an important intermediate assessment. \"Moderate\" exposure suggests that the location is subject to flooding, but not to the extreme degree that might overwhelm immediate coping mechanisms. It acknowledges the risk without classifying it as critically high. **This is a moderate input, not definitively high or low resilience.**\n",
            "\n",
            "**Synthesis for Resilience:**\n",
            "\n",
            "The key to the \"Good\" resilience estimation lies in the strong indicators of **low social vulnerability (Low SoVI)** and **low population density**. Even with a \"Moderate\" flood exposure and the proximity of a flood event, the underlying social fabric and the number of people directly affected are likely to be less impacted. This means that the community has a stronger capacity to withstand, respond to, and recover from the flood event. The distance of the flood pixel and the local road class are considered, but they do not override the positive social and demographic indicators that point towards a more resilient community.\n"
          ]
        }
      ]
    }
  ]
}
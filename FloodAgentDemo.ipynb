{
  "nbformat": 4,
  "nbformat_minor": 0,
  "metadata": {
    "colab": {
      "provenance": [],
      "mount_file_id": "1becJDEX8Hk1fQZaBQq0bd10YcY17mf9g",
      "authorship_tag": "ABX9TyOY3fGbGHN4jO4NcjEptt5p",
      "include_colab_link": true
    },
    "kernelspec": {
      "name": "python3",
      "display_name": "Python 3"
    },
    "language_info": {
      "name": "python"
    }
  },
  "cells": [
    {
      "cell_type": "markdown",
      "metadata": {
        "id": "view-in-github",
        "colab_type": "text"
      },
      "source": [
        "<a href=\"https://colab.research.google.com/github/sinajahangir/FloodAgent/blob/main/FloodAgentDemo.ipynb\" target=\"_parent\"><img src=\"https://colab.research.google.com/assets/colab-badge.svg\" alt=\"Open In Colab\"/></a>"
      ]
    },
    {
      "cell_type": "markdown",
      "source": [
        "# Introduction"
      ],
      "metadata": {
        "id": "wssEh45i1Dqa"
      }
    },
    {
      "cell_type": "markdown",
      "source": [
        "This AI agent code is designed to extract location parameters (coordinates) from a user prompt using natural language processing. After identifying the relevant location, the agent queries a flood information system to retrieve and present current flood-related details (e.g., severity, vulnerability) specific to the extracted location.\n",
        "The case study presented in this notebook is associated with City of Calgary\n",
        "\n",
        "You do not need to run the notebook on GPU\n",
        "\n",
        "Developed by: Sina Jahangir (first version: October 2025)\n",
        "license: GNU GENERAL PUBLIC LICENSE"
      ],
      "metadata": {
        "id": "-ah3TQTTi_0P"
      }
    },
    {
      "cell_type": "markdown",
      "source": [
        "# Clone repository"
      ],
      "metadata": {
        "id": "XlAHAxrH1pXZ"
      }
    },
    {
      "cell_type": "markdown",
      "source": [
        "After executing, you should see the repo in Files section"
      ],
      "metadata": {
        "id": "wN5zjIkK2G5k"
      }
    },
    {
      "cell_type": "code",
      "source": [
        "import os\n",
        "if os.path.isdir('FloodAgent'):\n",
        "    !rm -rf FloodAgent #removed if already there is a cloned repo\n",
        "!git clone https://github.com/sinajahangir/FloodAgent.git"
      ],
      "metadata": {
        "colab": {
          "base_uri": "https://localhost:8080/"
        },
        "id": "ReG1s3i11t1h",
        "outputId": "84d80467-5045-4273-b1db-a7cf00a1ce0f"
      },
      "execution_count": 1,
      "outputs": [
        {
          "output_type": "stream",
          "name": "stdout",
          "text": [
            "Cloning into 'FloodAgent'...\n",
            "remote: Enumerating objects: 55, done.\u001b[K\n",
            "remote: Counting objects: 100% (55/55), done.\u001b[K\n",
            "remote: Compressing objects: 100% (42/42), done.\u001b[K\n",
            "remote: Total 55 (delta 28), reused 36 (delta 13), pack-reused 0 (from 0)\u001b[K\n",
            "Receiving objects: 100% (55/55), 3.54 MiB | 8.62 MiB/s, done.\n",
            "Resolving deltas: 100% (28/28), done.\n"
          ]
        }
      ]
    },
    {
      "cell_type": "markdown",
      "source": [
        "# Install libraries and load dependencies"
      ],
      "metadata": {
        "id": "-TdemBo82TT2"
      }
    },
    {
      "cell_type": "code",
      "source": [
        "# Execute the setup.py file that is now in the cloned directory\n",
        "%run FloodAgent/SetupLibraries.py"
      ],
      "metadata": {
        "colab": {
          "base_uri": "https://localhost:8080/"
        },
        "id": "RSE6BCQI2gLO",
        "outputId": "b1e9df2f-f685-4c43-d63c-bd316a7b95b3"
      },
      "execution_count": 2,
      "outputs": [
        {
          "output_type": "stream",
          "name": "stdout",
          "text": [
            "Package ''pgmpy'' not found. Attempting installation of all required packages...\n",
            "Successfully installed: pandas, numpy, scipy, google-genai, pgmpy, rasterio\n",
            "Success: Packages installed and imported after retry.\n",
            "Numpy version: 2.0.2\n",
            "Setup script finished execution\n"
          ]
        }
      ]
    },
    {
      "cell_type": "markdown",
      "source": [
        "# LLM setup"
      ],
      "metadata": {
        "id": "oeF3ExXE6f5i"
      }
    },
    {
      "cell_type": "code",
      "source": [
        "# --- LLM Setup ---\n",
        "try:\n",
        "    # Using Colab Secrets for API key management\n",
        "    api_key = userdata.get('RAG') #API key needs setup in the cloud. \"RAG\" is an arbitrary name example\n",
        "    genai.configure(api_key=api_key)\n",
        "    print(\"Gemini API Key configured.\")\n",
        "    # Initialize the generative model\n",
        "    llm_model = genai.GenerativeModel('gemini-2.5-flash-lite') # Use a model good at instruction following/extraction\n",
        "    print(f\"LLM Model '{llm_model.model_name}' initialized.\")\n",
        "except userdata.SecretNotFoundError:\n",
        "    print(\"ERROR: Gemini API Key ('GEMINI_API_KEY') not found in Colab Secrets.\")\n",
        "    print(\"Please add your API key via the 'Secrets' tab (key icon) on the left.\")\n",
        "    llm_model = None\n",
        "except Exception as e:\n",
        "    print(f\"An error occurred during Gemini setup: {e}\")\n",
        "    llm_model = None"
      ],
      "metadata": {
        "colab": {
          "base_uri": "https://localhost:8080/"
        },
        "id": "CA4ht2-1KwVu",
        "outputId": "baaf5ebc-bc1e-4514-d8c9-74d7955fe245"
      },
      "execution_count": 3,
      "outputs": [
        {
          "output_type": "stream",
          "name": "stdout",
          "text": [
            "Gemini API Key configured.\n",
            "LLM Model 'models/gemini-2.5-flash-lite' initialized.\n"
          ]
        }
      ]
    },
    {
      "cell_type": "markdown",
      "source": [
        "# Agent class"
      ],
      "metadata": {
        "id": "MUpZCCWRRQJ-"
      }
    },
    {
      "cell_type": "code",
      "source": [
        "from FloodAgent.AgentSource import CoordinateFloodProximityAgent"
      ],
      "metadata": {
        "id": "AaoLS4HKQwKs"
      },
      "execution_count": 4,
      "outputs": []
    },
    {
      "cell_type": "markdown",
      "source": [
        "# Read data"
      ],
      "metadata": {
        "id": "GmszwBiQZhpy"
      }
    },
    {
      "cell_type": "code",
      "source": [
        "df_flood=pd.read_csv('FloodAgent/Data/CA_202012_FLSW_U_RP100_RB_30m_4326.csv') #flood data\n",
        "df_sovi=pd.read_csv('FloodAgent/Data/DA_SoVI_Coordinates.csv') #Social Vulnerability\n",
        "modeli_=DiscreteBayesianNetwork.load('FloodAgent/Data/BBN_Model_RoadNetwork_Updated.bif', filetype='bif') #Bayesian network"
      ],
      "metadata": {
        "id": "P5O9KTMUafNa"
      },
      "execution_count": 5,
      "outputs": []
    },
    {
      "cell_type": "code",
      "source": [
        "#Convert dataframes to numpy array (expected by the agent)\n",
        "flood_pixels = np.array(df_flood[['easting', 'northing']])\n",
        "sovi_pixels = np.array(df_sovi[['easting', 'northing']])\n",
        "sovi_array = np.array(df_sovi['SoVI'])\n",
        "pop_density_array = np.array(df_sovi['pop_d_c'])"
      ],
      "metadata": {
        "id": "rkIpy2qLaWTN"
      },
      "execution_count": 6,
      "outputs": []
    },
    {
      "cell_type": "markdown",
      "source": [
        "#Test Agent"
      ],
      "metadata": {
        "id": "5D1qLetxdzoG"
      }
    },
    {
      "cell_type": "code",
      "source": [
        "# --- Run Example IF LLM is available and data is ready ---\n",
        "if llm_model and len(flood_pixels) > 0:\n",
        "    # Instantiate the agent\n",
        "    try:\n",
        "        agent = CoordinateFloodProximityAgent(\n",
        "            flood_pixel_coords=flood_pixels,# Essential: Flood pixel data\n",
        "            sovi_coords=sovi_pixels,# SoVI coordination\n",
        "            sovi_array=sovi_array, # SoVI data\n",
        "            pop_density_array=pop_density_array,\n",
        "            BBN=modeli_, #Bayesian network,\n",
        "            llm_model=llm_model, #LLM model\n",
        "            show_map=True #Show map\n",
        "        )\n",
        "        #Question: 'How much is an iphone 17?'\n",
        "        prompt1 = \"Analyze flood at the largest hospital in Calgary, Foothills Medical Centre, located at coordinates 51.065389°N, 114.133306°W?\"\n",
        "        print(f\"\\nUser Query 1: {prompt1}\")\n",
        "        response1 = agent.find_closest_flood_pixel_to_location(prompt1)\n",
        "        print(f\"Agent Response 1:\\n{response1}\")\n",
        "\n",
        "    except Exception as e:\n",
        "        print(f\"\\nAn error occurred during agent instantiation or testing: {e}\")\n",
        "\n",
        "elif not llm_model:\n",
        "     print(\"\\nSkipping example usage: LLM model not initialized.\")\n",
        "else:\n",
        "     print(\"\\nSkipping example usage: Placeholder data (buildings or flood pixels) is empty or missing.\")"
      ],
      "metadata": {
        "colab": {
          "base_uri": "https://localhost:8080/",
          "height": 243
        },
        "id": "0S4-cvl6M2b1",
        "outputId": "425b547f-15b2-43de-e9da-9197758b62bc"
      },
      "execution_count": 8,
      "outputs": [
        {
          "output_type": "stream",
          "name": "stdout",
          "text": [
            "Stored 191478 flood pixel coordinates.\n",
            "Building k-d tree for flood pixels...\n",
            "Flood k-d tree built.\n",
            "\n",
            "User Query 1: How much is an iphone 17?\n",
            "Agent Response 1:\n",
            "I understand you're asking about the price of an iPhone 17. However, I'm currently designed to assist with information about flood alerts and require specific latitude and longitude coordinates for that purpose.\n",
            "\n",
            "If you're interested in flood information, please provide the coordinates in a clear format, such as:\n",
            "\n",
            "*   **latitude 40.7, longitude -74.0**\n",
            "\n",
            "If you have a question about iPhone pricing, I would be happy to try and help with that if you could direct me to a website or resource that has that information!\n"
          ]
        }
      ]
    }
  ]
}
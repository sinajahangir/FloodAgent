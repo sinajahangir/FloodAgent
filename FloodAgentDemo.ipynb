{
  "nbformat": 4,
  "nbformat_minor": 0,
  "metadata": {
    "colab": {
      "provenance": [],
      "mount_file_id": "1becJDEX8Hk1fQZaBQq0bd10YcY17mf9g",
      "authorship_tag": "ABX9TyMamqaMF3I6VC0Fe3SMxnhk",
      "include_colab_link": true
    },
    "kernelspec": {
      "name": "python3",
      "display_name": "Python 3"
    },
    "language_info": {
      "name": "python"
    }
  },
  "cells": [
    {
      "cell_type": "markdown",
      "metadata": {
        "id": "view-in-github",
        "colab_type": "text"
      },
      "source": [
        "<a href=\"https://colab.research.google.com/github/sinajahangir/FloodAgent/blob/main/FloodAgentDemo.ipynb\" target=\"_parent\"><img src=\"https://colab.research.google.com/assets/colab-badge.svg\" alt=\"Open In Colab\"/></a>"
      ]
    },
    {
      "cell_type": "markdown",
      "source": [
        "# Introduction"
      ],
      "metadata": {
        "id": "wssEh45i1Dqa"
      }
    },
    {
      "cell_type": "markdown",
      "source": [
        "This AI agent code is designed to extract location parameters (coordinates) from a user prompt using natural language processing. After identifying the relevant location, the agent queries a flood information system to retrieve and present current flood-related details (e.g., severity, vulnerability) specific to the extracted location.\n",
        "The case study presented in this notebook is associated with City of Calgary\n",
        "\n",
        "You do not need to run the notebook on GPU\n",
        "\n",
        "Developed by: Sina Jahangir (first version: October 2025)\n",
        "license: GNU GENERAL PUBLIC LICENSE"
      ],
      "metadata": {
        "id": "-ah3TQTTi_0P"
      }
    },
    {
      "cell_type": "markdown",
      "source": [
        "# Clone repository"
      ],
      "metadata": {
        "id": "XlAHAxrH1pXZ"
      }
    },
    {
      "cell_type": "markdown",
      "source": [
        "After executing, you should see the repo in Files section"
      ],
      "metadata": {
        "id": "wN5zjIkK2G5k"
      }
    },
    {
      "cell_type": "code",
      "source": [
        "import os\n",
        "if os.path.isdir('FloodAgent'):\n",
        "    !rm -rf FloodAgent #removed if already there is a cloned repo\n",
        "!git clone https://github.com/sinajahangir/FloodAgent.git"
      ],
      "metadata": {
        "colab": {
          "base_uri": "https://localhost:8080/"
        },
        "id": "ReG1s3i11t1h",
        "outputId": "8231961b-5840-489d-a3f7-958ed344d5d7"
      },
      "execution_count": 22,
      "outputs": [
        {
          "output_type": "stream",
          "name": "stdout",
          "text": [
            "Cloning into 'FloodAgent'...\n",
            "remote: Enumerating objects: 36, done.\u001b[K\n",
            "remote: Counting objects: 100% (36/36), done.\u001b[K\n",
            "remote: Compressing objects: 100% (28/28), done.\u001b[K\n",
            "remote: Total 36 (delta 15), reused 25 (delta 8), pack-reused 0 (from 0)\u001b[K\n",
            "Receiving objects: 100% (36/36), 3.54 MiB | 3.86 MiB/s, done.\n",
            "Resolving deltas: 100% (15/15), done.\n"
          ]
        }
      ]
    },
    {
      "cell_type": "markdown",
      "source": [
        "# Install libraries and load dependencies"
      ],
      "metadata": {
        "id": "-TdemBo82TT2"
      }
    },
    {
      "cell_type": "code",
      "source": [
        "# Execute the setup.py file that is now in the cloned directory\n",
        "%run FloodAgent/SetupLibraries.py"
      ],
      "metadata": {
        "colab": {
          "base_uri": "https://localhost:8080/"
        },
        "id": "RSE6BCQI2gLO",
        "outputId": "780e3cf2-78d6-470f-f889-10f83ff012f0"
      },
      "execution_count": 21,
      "outputs": [
        {
          "output_type": "stream",
          "name": "stdout",
          "text": [
            "Success: All core packages were already installed and imported.\n",
            "Numpy version: 2.0.2\n",
            "Setup script finished execution\n"
          ]
        }
      ]
    },
    {
      "cell_type": "markdown",
      "source": [
        "# LLM setup"
      ],
      "metadata": {
        "id": "oeF3ExXE6f5i"
      }
    },
    {
      "cell_type": "code",
      "source": [
        "# --- LLM Setup ---\n",
        "try:\n",
        "    # Using Colab Secrets for API key management\n",
        "    api_key = userdata.get('RAG') #API key needs setup in the cloud. \"RAG\" is an arbitrary name example\n",
        "    genai.configure(api_key=api_key)\n",
        "    print(\"Gemini API Key configured.\")\n",
        "    # Initialize the generative model\n",
        "    llm_model = genai.GenerativeModel('gemini-2.5-flash-lite') # Use a model good at instruction following/extraction\n",
        "    print(f\"LLM Model '{llm_model.model_name}' initialized.\")\n",
        "except userdata.SecretNotFoundError:\n",
        "    print(\"ERROR: Gemini API Key ('GEMINI_API_KEY') not found in Colab Secrets.\")\n",
        "    print(\"Please add your API key via the 'Secrets' tab (key icon) on the left.\")\n",
        "    llm_model = None\n",
        "except Exception as e:\n",
        "    print(f\"An error occurred during Gemini setup: {e}\")\n",
        "    llm_model = None"
      ],
      "metadata": {
        "colab": {
          "base_uri": "https://localhost:8080/"
        },
        "id": "CA4ht2-1KwVu",
        "outputId": "e75aea44-2d81-4c8b-dd16-918987618552"
      },
      "execution_count": 9,
      "outputs": [
        {
          "output_type": "stream",
          "name": "stdout",
          "text": [
            "Gemini API Key configured.\n",
            "LLM Model 'models/gemini-2.5-flash-lite' initialized.\n"
          ]
        }
      ]
    },
    {
      "cell_type": "markdown",
      "source": [
        "# Agent class"
      ],
      "metadata": {
        "id": "MUpZCCWRRQJ-"
      }
    },
    {
      "cell_type": "code",
      "source": [
        "from FloodAgent.AgentSource import CoordinateFloodProximityAgent"
      ],
      "metadata": {
        "id": "AaoLS4HKQwKs"
      },
      "execution_count": 17,
      "outputs": []
    },
    {
      "cell_type": "markdown",
      "source": [
        "# Read data"
      ],
      "metadata": {
        "id": "GmszwBiQZhpy"
      }
    },
    {
      "cell_type": "code",
      "source": [
        "df_flood=pd.read_csv('FloodAgent/Data/CA_202012_FLSW_U_RP100_RB_30m_4326.csv') #flood data\n",
        "df_sovi=pd.read_csv('FloodAgent/Data/DA_SoVI_Coordinates.csv') #Social Vulnerability\n",
        "modeli_=DiscreteBayesianNetwork.load('FloodAgent/Data/BBN_Model_RoadNetwork_Updated.bif', filetype='bif') #Bayesian network"
      ],
      "metadata": {
        "id": "P5O9KTMUafNa"
      },
      "execution_count": 23,
      "outputs": []
    },
    {
      "cell_type": "code",
      "source": [
        "#Convert dataframes to numpy array (expected by the agent)\n",
        "flood_pixels = np.array(df_flood[['easting', 'northing']])\n",
        "sovi_pixels = np.array(df_sovi[['easting', 'northing']])\n",
        "sovi_array = np.array(df_sovi['SoVI'])\n",
        "pop_density_array = np.array(df_sovi['pop_d_c'])"
      ],
      "metadata": {
        "id": "rkIpy2qLaWTN"
      },
      "execution_count": 24,
      "outputs": []
    },
    {
      "cell_type": "markdown",
      "source": [
        "#Test Agent"
      ],
      "metadata": {
        "id": "5D1qLetxdzoG"
      }
    },
    {
      "cell_type": "code",
      "source": [
        "# --- Run Example IF LLM is available and data is ready ---\n",
        "if llm_model and len(flood_pixels) > 0:\n",
        "    # Instantiate the agent\n",
        "    try:\n",
        "        agent = CoordinateFloodProximityAgent(\n",
        "            flood_pixel_coords=flood_pixels,# Essential: Flood pixel data\n",
        "            sovi_coords=sovi_pixels,# SoVI coordination\n",
        "            sovi_array=sovi_array, # SoVI data\n",
        "            pop_density_array=pop_density_array,\n",
        "            BBN=modeli_, #Bayesian network,\n",
        "            llm_model=llm_model #LLM model\n",
        "        )\n",
        "\n",
        "        prompt1 = \"Explain the flooding situation at largest hospital in Calgary, Foothills Medical Centre, located at coordinates 51.06N, 114.13W?\"\n",
        "        print(f\"\\nUser Query 1: {prompt1}\")\n",
        "        response1 = agent.find_closest_flood_pixel_to_location(prompt1)\n",
        "        print(f\"Agent Response 1:\\n{response1}\")\n",
        "\n",
        "    except Exception as e:\n",
        "        print(f\"\\nAn error occurred during agent instantiation or testing: {e}\")\n",
        "\n",
        "elif not llm_model:\n",
        "     print(\"\\nSkipping example usage: LLM model not initialized.\")\n",
        "else:\n",
        "     print(\"\\nSkipping example usage: Placeholder data (buildings or flood pixels) is empty or missing.\")"
      ],
      "metadata": {
        "colab": {
          "base_uri": "https://localhost:8080/",
          "height": 783
        },
        "id": "0S4-cvl6M2b1",
        "outputId": "8b76c7a0-41b5-4a97-e537-e2acd76bda51"
      },
      "execution_count": 27,
      "outputs": [
        {
          "output_type": "stream",
          "name": "stdout",
          "text": [
            "Stored 191478 flood pixel coordinates.\n",
            "Building k-d tree for flood pixels...\n",
            "Flood k-d tree built.\n",
            "\n",
            "--- Testing Queries ---\n",
            "\n",
            "User Query 1: Explain the flooding situation at largest hospital in Calgary, Foothills Medical Centre, located at coordinates 51.06N, 114.13W?\n",
            "Converted to UTM (EPSG:32611): Easting=701109.2957626152, Northing=5660416.328740194\n",
            "Closest flood pixel found: Coords=[ 700989.96228624 5660211.09291781], Distance=237.4073\n",
            "Agent Response 1:\n",
            "Here's a concise response to the user, incorporating the provided information and estimating flood resilience:\n",
            "\n",
            "**Your location is near a recorded flood event.**\n",
            "\n",
            "The closest flood data point is approximately **237 meters away**. This area has a **Low** social vulnerability (SoVI value class) and a **Moderate** population density, with an expected local road class. Considering these factors, the overall flood exposure is assessed as **Moderate**.\n",
            "\n",
            "**Flood Resilience Estimate:**\n",
            "\n",
            "Given the **Low social vulnerability**, **Moderate population density**, and **Moderate flood exposure**, your location is estimated to have **Moderate flood resilience**.\n",
            "\n",
            "---\n",
            "\n",
            "**Chain of Thought for Flood Resilience Estimation:**\n",
            "\n",
            "My estimate of **Moderate flood resilience** is based on the interplay of several factors:\n",
            "\n",
            "1.  **Social Vulnerability (SoVI Value Class):** The **Low** SoVI value is a positive indicator for resilience. This suggests that the community in the vicinity of the flood data point has a lower susceptibility to the social impacts of flooding due to factors like income, age, or housing type. Lower social vulnerability generally means a greater capacity to cope and recover.\n",
            "\n",
            "2.  **Population Density:** A **Moderate** population density indicates that while there are people present, it's not an overwhelmingly dense area. This can mean that resources might be more evenly distributed, and evacuation or access for emergency services might be slightly easier than in very high-density areas, but there's still a significant population to consider.\n",
            "\n",
            "3.  **Flood Exposure:** The **Moderate** flood exposure, derived from the population density and road class, signifies that there is a tangible risk of flooding, but it's not extreme. The presence of local roads suggests that while there's connectivity, these are typically less robust than major highways, which can be a factor during severe flooding events.\n",
            "\n",
            "4.  **Distance to Flood Pixel:** The **237-meter distance** is relatively close. This means the recorded flood event is a relevant indicator of potential risk for your location. It's close enough to be a strong consideration for resilience planning.\n",
            "\n",
            "**Synthesizing these points:**\n",
            "\n",
            "*   A **Low SoVI value** is the strongest positive factor contributing to resilience. It implies inherent community strengths in absorbing and recovering from shocks.\n",
            "*   **Moderate population density** and **Moderate flood exposure** suggest a balanced situation. The risk is present but not overwhelming, and the community's capacity is likely to be a mix of strengths and potential challenges.\n",
            "*   The proximity of the flood event means that the potential for impact is real, necessitating preparedness.\n",
            "\n",
            "Therefore, the combination of a community that is not highly socially vulnerable, facing a moderate level of exposure, and where a flood event is relatively close, leads to an assessment of **Moderate flood resilience**. This implies that the community likely possesses some capacity to withstand and recover from flooding, but there are also potential areas where resilience could be strengthened through preparedness and mitigation efforts.\n",
            "\n",
            "--- End Queries ---\n"
          ]
        }
      ]
    }
  ]
}
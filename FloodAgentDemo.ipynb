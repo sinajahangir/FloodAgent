{
  "nbformat": 4,
  "nbformat_minor": 0,
  "metadata": {
    "colab": {
      "provenance": [],
      "mount_file_id": "1becJDEX8Hk1fQZaBQq0bd10YcY17mf9g",
      "authorship_tag": "ABX9TyOEzFlNHQzzMasASmx1Or88",
      "include_colab_link": true
    },
    "kernelspec": {
      "name": "python3",
      "display_name": "Python 3"
    },
    "language_info": {
      "name": "python"
    }
  },
  "cells": [
    {
      "cell_type": "markdown",
      "metadata": {
        "id": "view-in-github",
        "colab_type": "text"
      },
      "source": [
        "<a href=\"https://colab.research.google.com/github/sinajahangir/FloodAgent/blob/main/FloodAgentDemo.ipynb\" target=\"_parent\"><img src=\"https://colab.research.google.com/assets/colab-badge.svg\" alt=\"Open In Colab\"/></a>"
      ]
    },
    {
      "cell_type": "markdown",
      "source": [
        "# Introduction"
      ],
      "metadata": {
        "id": "wssEh45i1Dqa"
      }
    },
    {
      "cell_type": "markdown",
      "source": [
        "This AI agent code is designed to extract location parameters (coordinates) from a user prompt using natural language processing. After identifying the relevant location, the agent queries a flood information system to retrieve and present current flood-related details (e.g., severity, vulnerability) specific to the extracted location.\n",
        "The case study presented in this notebook is associated with City of Calgary\n",
        "\n",
        "You do not need to run the notebook on GPU\n",
        "\n",
        "Developed by: Sina Jahangir (first version: October 2025)\n",
        "license: GNU GENERAL PUBLIC LICENSE"
      ],
      "metadata": {
        "id": "-ah3TQTTi_0P"
      }
    },
    {
      "cell_type": "markdown",
      "source": [
        "# Clone repository"
      ],
      "metadata": {
        "id": "XlAHAxrH1pXZ"
      }
    },
    {
      "cell_type": "markdown",
      "source": [
        "After executing, you should see the repo in Files section"
      ],
      "metadata": {
        "id": "wN5zjIkK2G5k"
      }
    },
    {
      "cell_type": "code",
      "source": [
        "import os\n",
        "if os.path.isdir('FloodAgent'):\n",
        "    !rm -rf FloodAgent #removed if already there is a cloned repo\n",
        "!git clone https://github.com/sinajahangir/FloodAgent.git"
      ],
      "metadata": {
        "colab": {
          "base_uri": "https://localhost:8080/"
        },
        "id": "ReG1s3i11t1h",
        "outputId": "728bfc47-c05e-444e-f1f3-db60e3f9c103"
      },
      "execution_count": 1,
      "outputs": [
        {
          "output_type": "stream",
          "name": "stdout",
          "text": [
            "Cloning into 'FloodAgent'...\n",
            "remote: Enumerating objects: 61, done.\u001b[K\n",
            "remote: Counting objects: 100% (61/61), done.\u001b[K\n",
            "remote: Compressing objects: 100% (48/48), done.\u001b[K\n",
            "remote: Total 61 (delta 32), reused 35 (delta 13), pack-reused 0 (from 0)\u001b[K\n",
            "Receiving objects: 100% (61/61), 3.55 MiB | 10.56 MiB/s, done.\n",
            "Resolving deltas: 100% (32/32), done.\n"
          ]
        }
      ]
    },
    {
      "cell_type": "markdown",
      "source": [
        "# Install libraries and load dependencies"
      ],
      "metadata": {
        "id": "-TdemBo82TT2"
      }
    },
    {
      "cell_type": "code",
      "source": [
        "# Execute the setup.py file that is now in the cloned directory\n",
        "%run FloodAgent/SetupLibraries.py"
      ],
      "metadata": {
        "colab": {
          "base_uri": "https://localhost:8080/"
        },
        "id": "RSE6BCQI2gLO",
        "outputId": "099846d2-65d5-4f42-9443-1b37c0a6f01f"
      },
      "execution_count": 2,
      "outputs": [
        {
          "output_type": "stream",
          "name": "stdout",
          "text": [
            "Package ''pgmpy'' not found. Attempting installation of all required packages...\n",
            "Successfully installed: pandas, numpy, scipy, google-genai, pgmpy, rasterio\n",
            "Success: Packages installed and imported after retry.\n",
            "Numpy version: 2.0.2\n",
            "Setup script finished execution\n"
          ]
        }
      ]
    },
    {
      "cell_type": "markdown",
      "source": [
        "# LLM setup"
      ],
      "metadata": {
        "id": "oeF3ExXE6f5i"
      }
    },
    {
      "cell_type": "markdown",
      "source": [
        "You have to setup the gemini key"
      ],
      "metadata": {
        "id": "YD-EVtAGZUoK"
      }
    },
    {
      "cell_type": "code",
      "source": [
        "# --- LLM Setup ---\n",
        "try:\n",
        "    # Using Colab Secrets for API key management\n",
        "    api_key = userdata.get('RAG') #API key needs setup in the cloud. \"RAG\" is an arbitrary name example\n",
        "    genai.configure(api_key=api_key)\n",
        "    print(\"Gemini API Key configured.\")\n",
        "    # Initialize the generative model\n",
        "    llm_model = genai.GenerativeModel('gemini-2.5-flash-lite') # Use a model good at instruction following/extraction\n",
        "    print(f\"LLM Model '{llm_model.model_name}' initialized.\")\n",
        "except userdata.SecretNotFoundError:\n",
        "    print(\"ERROR: Gemini API Key ('GEMINI_API_KEY') not found in Colab Secrets.\")\n",
        "    print(\"Please add your API key via the 'Secrets' tab (key icon) on the left.\")\n",
        "    llm_model = None\n",
        "except Exception as e:\n",
        "    print(f\"An error occurred during Gemini setup: {e}\")\n",
        "    llm_model = None"
      ],
      "metadata": {
        "colab": {
          "base_uri": "https://localhost:8080/"
        },
        "id": "CA4ht2-1KwVu",
        "outputId": "e3ad4ab5-0401-40e4-e59d-962502a905cd"
      },
      "execution_count": 3,
      "outputs": [
        {
          "output_type": "stream",
          "name": "stdout",
          "text": [
            "Gemini API Key configured.\n",
            "LLM Model 'models/gemini-2.5-flash-lite' initialized.\n"
          ]
        }
      ]
    },
    {
      "cell_type": "markdown",
      "source": [
        "# Agent class"
      ],
      "metadata": {
        "id": "MUpZCCWRRQJ-"
      }
    },
    {
      "cell_type": "code",
      "source": [
        "from FloodAgent.AgentSource import CoordinateFloodProximityAgent"
      ],
      "metadata": {
        "id": "AaoLS4HKQwKs"
      },
      "execution_count": 4,
      "outputs": []
    },
    {
      "cell_type": "markdown",
      "source": [
        "# Read data"
      ],
      "metadata": {
        "id": "GmszwBiQZhpy"
      }
    },
    {
      "cell_type": "code",
      "source": [
        "df_flood=pd.read_csv('FloodAgent/Data/CA_202012_FLSW_U_RP100_RB_30m_4326.csv') #Flood data\n",
        "df_sovi=pd.read_csv('FloodAgent/Data/DA_SoVI_Coordinates.csv') #Social Vulnerability\n",
        "modeli_=DiscreteBayesianNetwork.load('FloodAgent/Data/BBN_Model_RoadNetwork_Updated.bif', filetype='bif') #Bayesian network"
      ],
      "metadata": {
        "id": "P5O9KTMUafNa"
      },
      "execution_count": 5,
      "outputs": []
    },
    {
      "cell_type": "code",
      "source": [
        "#Convert dataframes to numpy array (expected by the agent)\n",
        "flood_pixels = np.array(df_flood[['easting', 'northing']])\n",
        "sovi_pixels = np.array(df_sovi[['easting', 'northing']])\n",
        "sovi_array = np.array(df_sovi['SoVI'])\n",
        "pop_density_array = np.array(df_sovi['pop_d_c'])"
      ],
      "metadata": {
        "id": "rkIpy2qLaWTN"
      },
      "execution_count": 6,
      "outputs": []
    },
    {
      "cell_type": "markdown",
      "source": [
        "#Test Agent"
      ],
      "metadata": {
        "id": "5D1qLetxdzoG"
      }
    },
    {
      "cell_type": "code",
      "source": [
        "# --- Run Example IF LLM is available and data is ready ---\n",
        "if llm_model and len(flood_pixels) > 0:\n",
        "    # Instantiate the agent\n",
        "    try:\n",
        "        agent = CoordinateFloodProximityAgent(\n",
        "            flood_pixel_coords=flood_pixels,# Essential: Flood pixel data\n",
        "            sovi_coords=sovi_pixels,# SoVI coordination\n",
        "            sovi_array=sovi_array, # SoVI data\n",
        "            pop_density_array=pop_density_array,\n",
        "            BBN=modeli_, #Bayesian network,\n",
        "            llm_model=llm_model, #LLM model\n",
        "            show_map=True #Show map\n",
        "        )\n",
        "        #Question: 'How much is an iphone 17?'\n",
        "        prompt1 = \"Analyze flood at the largest hospital in Calgary, Foothills Medical Centre, located at coordinates 51.065389°N, 114.133306°W?\"\n",
        "        print(f\"\\nUser Query 1: {prompt1}\")\n",
        "        response1 = agent.find_closest_flood_pixel_to_location(prompt1)\n",
        "        print(f\"Agent Response 1:\\n{response1}\")\n",
        "\n",
        "    except Exception as e:\n",
        "        print(f\"\\nAn error occurred during agent instantiation or testing: {e}\")\n",
        "\n",
        "elif not llm_model:\n",
        "     print(\"\\nSkipping example usage: LLM model not initialized.\")\n",
        "else:\n",
        "     print(\"\\nSkipping example usage: Placeholder data (buildings or flood pixels) is empty or missing.\")"
      ],
      "metadata": {
        "colab": {
          "base_uri": "https://localhost:8080/",
          "height": 1000
        },
        "id": "0S4-cvl6M2b1",
        "outputId": "8a1371fb-66f4-4141-9c26-eca83066b813"
      },
      "execution_count": 9,
      "outputs": [
        {
          "output_type": "stream",
          "name": "stdout",
          "text": [
            "Stored 191478 flood pixel coordinates.\n",
            "Building k-d tree for flood pixels...\n",
            "Flood k-d tree built.\n",
            "\n",
            "User Query 1: Analyze flood at the largest hospital in Calgary, Foothills Medical Centre, located at coordinates 51.065389°N, 114.133306°W?\n",
            "Displaying Location: Lat=51.065389, Lon=-114.133306\n",
            "Direct Link (Open in New Tab): https://www.google.com/maps/@51.065389,-114.133306,10z\n"
          ]
        },
        {
          "output_type": "display_data",
          "data": {
            "text/plain": [
              "<IPython.lib.display.IFrame at 0x7a8ade8d0a40>"
            ],
            "text/html": [
              "\n",
              "        <iframe\n",
              "            width=\"100%\"\n",
              "            height=\"450\"\n",
              "            src=\"https://maps.google.com/maps?q=51.065389,-114.133306&output=embed\"\n",
              "            frameborder=\"0\"\n",
              "            allowfullscreen\n",
              "            \n",
              "        ></iframe>\n",
              "        "
            ]
          },
          "metadata": {}
        },
        {
          "output_type": "stream",
          "name": "stdout",
          "text": [
            "Converted to UTM (EPSG:32611): Easting=700854.339158512, Northing=5661006.428564519\n",
            "Closest flood pixel found: Coords=[ 700936.80600551 5661075.03498424], Distance=107.2736\n",
            "Agent Response 1:\n",
            "Here's a concise response incorporating the information and a thoughtful estimate of flood resilience:\n",
            "\n",
            "**Your location is near a recorded flood event, with the closest pixel approximately 107 meters away.** The social vulnerability assessment indicates a **Low** SoVI class, suggesting less inherent vulnerability within the community. Coupled with a **Low** population density and an expected **Local** road class, the overall flood exposure is assessed as **Moderate**.\n",
            "\n",
            "**Flood Resilience Estimate: Moderate to High**\n",
            "\n",
            "**Chain of Thought for Flood Resilience:**\n",
            "\n",
            "1.  **Start with the Flood Exposure:** The \"Moderate\" flood exposure is the baseline. This means there's a tangible risk, but not an extreme one given the proximity and the other factors.\n",
            "\n",
            "2.  **Consider the SoVI Class (Low):** This is a significant positive factor for resilience. A \"Low\" SoVI class implies that the community likely possesses stronger social cohesion, better access to resources, and potentially higher levels of preparedness and social capital. This inherent strength can help individuals and the community cope with and recover from a flood event.\n",
            "\n",
            "3.  **Factor in Population Density (Low):** A \"Low\" population density is generally beneficial for resilience. Fewer people in the affected area can mean less widespread damage to homes and infrastructure, and potentially easier evacuation and access for emergency services. It also suggests that individual households might have more space or resources to manage their own immediate response.\n",
            "\n",
            "4.  **Analyze the Road Class (Local):** An expected \"Local\" road class suggests that while the immediate access to the flood pixel might be via local roads, the broader transportation network is likely more robust. This could mean that essential services can still reach the area, and evacuation routes might exist through larger arteries, even if the very closest routes are affected.\n",
            "\n",
            "5.  **Synthesize the Factors:**\n",
            "    *   The \"Moderate\" flood exposure is mitigated by the positive indicators.\n",
            "    *   The \"Low\" SoVI class strongly suggests a community with a good capacity to respond and recover due to social strengths.\n",
            "    *   \"Low\" population density reduces the scale of potential impact and can facilitate easier response.\n",
            "    *   While \"Local\" roads might be affected, it doesn't automatically imply complete isolation, especially when considered alongside the other factors.\n",
            "\n",
            "6.  **Conclude on Resilience:** The combination of a community that is likely well-connected and resourceful (Low SoVI) with a less concentrated population and generally manageable access routes, even in the face of a moderate flood exposure, points towards a **Moderate to High** level of flood resilience. The community is likely better equipped to withstand and recover from an event of this nature compared to areas with higher social vulnerability, higher population density, or critical infrastructure reliance on only heavily impacted road types.\n"
          ]
        }
      ]
    }
  ]
}